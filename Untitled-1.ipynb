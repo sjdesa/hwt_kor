{
 "cells": [
  {
   "cell_type": "code",
   "execution_count": 1,
   "id": "e828949f",
   "metadata": {},
   "outputs": [],
   "source": [
    "from data.dataset import TextDataset, TextDatasetval\n",
    "from params import *\n",
    "\n",
    "TextDatasetObj = TextDataset(num_examples = NUM_EXAMPLES)\n",
    "dataset = torch.utils.data.DataLoader(\n",
    "                TextDatasetObj,\n",
    "                batch_size=batch_size,\n",
    "                shuffle=True,\n",
    "                num_workers=0,  \n",
    "                pin_memory=True, drop_last=True,\n",
    "                collate_fn=TextDatasetObj.collate_fn)\n",
    "\n",
    "TextDatasetObjval = TextDatasetval(num_examples = NUM_EXAMPLES)\n",
    "datasetval = torch.utils.data.DataLoader(\n",
    "                TextDatasetObjval,\n",
    "                batch_size=batch_size,\n",
    "                shuffle=True,\n",
    "                num_workers=0,\n",
    "                pin_memory=True, drop_last=True,\n",
    "                collate_fn=TextDatasetObjval.collate_fn)"
   ]
  },
  {
   "cell_type": "code",
   "execution_count": 2,
   "id": "838658d1",
   "metadata": {},
   "outputs": [
    {
     "name": "stdout",
     "output_type": "stream",
     "text": [
      "torch.Size([8, 1, 88, 765])\n",
      "<class 'bytes'> b'\\xeb\\x84\\x88\\xeb\\xac\\xb4 \\xeb\\xa7\\x91\\xea\\xb3\\xa0 \\xec\\xb4\\x88\\xeb\\xa1\\xb1\\xed\\x95\\x9c \\xea\\xb7\\xb8 \\xec\\xa4\\x91 \\xed\\x95\\x98\\xeb\\x82\\x98 \\xeb\\xb3\\x84\\xec\\x9d\\xb4\\xec\\x97\\xac'\n",
      "----------------------------------------------------------------------------------------------------\n",
      "torch.Size([8, 1, 88, 765])\n",
      "<class 'bytes'> b'\\xeb\\x84\\x88\\xeb\\xac\\xb4 \\xeb\\xa7\\x91\\xea\\xb3\\xa0 \\xec\\xb4\\x88\\xeb\\xa1\\xb1\\xed\\x95\\x9c \\xea\\xb7\\xb8 \\xec\\xa4\\x91 \\xed\\x95\\x98\\xeb\\x82\\x98 \\xeb\\xb3\\x84\\xec\\x9d\\xb4\\xec\\x97\\xac'\n"
     ]
    }
   ],
   "source": [
    "batch = next(iter(dataset))\n",
    "print(batch['img'].shape)\n",
    "print(type(batch['label'][0]), batch['label'][0])\n",
    "print('-'*100)\n",
    "batch = next(iter(datasetval))\n",
    "print(batch['img'].shape)\n",
    "print(type(batch['label'][0]), batch['label'][0])"
   ]
  },
  {
   "cell_type": "code",
   "execution_count": 6,
   "id": "8089973f",
   "metadata": {},
   "outputs": [
    {
     "data": {
      "image/png": "[encoded data removed]",
      "text/plain": [
       "<Figure size 640x480 with 1 Axes>"
      ]
     },
     "metadata": {},
     "output_type": "display_data"
    }
   ],
   "source": [
    "import matplotlib.pyplot as plt\n",
    "plt.imshow(batch['img'][0][0])\n",
    "plt.show()"
   ]
  },
  {
   "cell_type": "code",
   "execution_count": 3,
   "id": "60335384",
   "metadata": {},
   "outputs": [],
   "source": [
    "from models.OCR_network import strLabelConverter, OCRLabelConverter\n",
    "\n",
    "with open('files_kr/korean.txt', encoding='utf-8') as f:\n",
    "\n",
    "    hangul_alphabet = ''.join(line.strip() for line in f)\n",
    "\n",
    "# 예시: CTC 방식 컨버터\n",
    "converter1 = OCRLabelConverter(alphabet=hangul_alphabet, ignore_case=False)\n",
    "\n",
    "# 예시: RNN 방식 컨버터\n",
    "converter2 = strLabelConverter(alphabet=hangul_alphabet, ignore_case=False)\n"
   ]
  },
  {
   "cell_type": "code",
   "execution_count": 5,
   "id": "144a4eea",
   "metadata": {},
   "outputs": [
    {
     "ename": "TypeError",
     "evalue": "OCRLabelConverter.encode() missing 1 required positional argument: 'text'",
     "output_type": "error",
     "traceback": [
      "\u001b[31m---------------------------------------------------------------------------\u001b[39m",
      "\u001b[31mTypeError\u001b[39m                                 Traceback (most recent call last)",
      "\u001b[36mCell\u001b[39m\u001b[36m \u001b[39m\u001b[32mIn[5]\u001b[39m\u001b[32m, line 1\u001b[39m\n\u001b[32m----> \u001b[39m\u001b[32m1\u001b[39m \u001b[43mconverter1\u001b[49m\u001b[43m.\u001b[49m\u001b[43mencode\u001b[49m\u001b[43m(\u001b[49m\u001b[43m)\u001b[49m\n",
      "\u001b[31mTypeError\u001b[39m: OCRLabelConverter.encode() missing 1 required positional argument: 'text'"
     ]
    }
   ],
   "source": [
    "converter1.encode()"
   ]
  },
  {
   "cell_type": "code",
   "execution_count": null,
   "id": "43c3cbfe",
   "metadata": {},
   "outputs": [],
   "source": []
  }
 ],
 "metadata": {
  "kernelspec": {
   "display_name": "hwt",
   "language": "python",
   "name": "python3"
  },
  "language_info": {
   "codemirror_mode": {
    "name": "ipython",
    "version": 3
   },
   "file_extension": ".py",
   "mimetype": "text/x-python",
   "name": "python",
   "nbconvert_exporter": "python",
   "pygments_lexer": "ipython3",
   "version": "3.11.11"
  }
 },
 "nbformat": 4,
 "nbformat_minor": 5
}
